{
 "cells": [
  {
   "cell_type": "code",
   "execution_count": 1,
   "id": "82515f52-7dfe-4e74-aa58-59292933fc28",
   "metadata": {},
   "outputs": [
    {
     "name": "stdout",
     "output_type": "stream",
     "text": [
      "<-------- MINI CALCULTOR -------->\n"
     ]
    },
    {
     "name": "stdin",
     "output_type": "stream",
     "text": [
      "Enter first number here :  20\n",
      "Enter second number here :  9\n"
     ]
    },
    {
     "name": "stdout",
     "output_type": "stream",
     "text": [
      "press 1 for addition \n",
      " press 2 for substraction \n",
      " press 3 for multiplication \n",
      " press 4 for division\n"
     ]
    },
    {
     "name": "stdin",
     "output_type": "stream",
     "text": [
      "Enter your choice from 1 to 4 :  4\n"
     ]
    },
    {
     "name": "stdout",
     "output_type": "stream",
     "text": [
      "The division of given two numbers is 2.2222222222222223\n"
     ]
    }
   ],
   "source": [
    "print(\"<-------- MINI CALCULTOR -------->\")\n",
    "\n",
    "no1=float(input(\"Enter first number here : \"))\n",
    "no2=float(input(\"Enter second number here : \"))\n",
    "print(\"press 1 for addition \\n press 2 for substraction \\n press 3 for multiplication \\n press 4 for division\")\n",
    "choice=int(input(\"Enter your choice from 1 to 4 : \"))\n",
    "if choice==1:\n",
    "    print(\"The addition of given two numbers is\",no1 + no2)\n",
    "elif choice==2:\n",
    "    print(\"The substraction of given two numbers is\",no1 - no2)\n",
    "elif choice==3:\n",
    "    print(\"The multiplication of given two numbers is\",no1 * no2)\n",
    "elif choice==4:\n",
    "    print(\"The division of given two numbers is\",no1 / no2)\n",
    "else:\n",
    "    print(\"Invalid Input\")\n"
   ]
  },
  {
   "cell_type": "code",
   "execution_count": 3,
   "id": "8f4fccad-f63b-4535-a7ad-df746f45413f",
   "metadata": {},
   "outputs": [
    {
     "name": "stdin",
     "output_type": "stream",
     "text": [
      "Enter your age:  19\n"
     ]
    },
    {
     "name": "stdout",
     "output_type": "stream",
     "text": [
      "You are eligible for voting\n",
      "<-----Voting options for political parties-----> \n",
      "1.BJP           2.CONGRESS\n",
      "press 1 to vote BJP \n",
      "press 2 to vote CONGRESS\n"
     ]
    },
    {
     "name": "stdin",
     "output_type": "stream",
     "text": [
      "Enter your choice from 1-2 : 1\n"
     ]
    },
    {
     "name": "stdout",
     "output_type": "stream",
     "text": [
      " You have successfully Voted to BJP\n"
     ]
    }
   ],
   "source": [
    "age=int(input(\"Enter your age: \"))\n",
    "if age>=18:\n",
    "    print(\"You are eligible for voting\")\n",
    "    print(\"<-----Voting options for political parties-----> \")\n",
    "    print(\"1.BJP\",end=\"           \")\n",
    "    print(\"2.CONGRESS\")\n",
    "    print(\"press 1 to vote BJP \\npress 2 to vote CONGRESS\")\n",
    "    choice=int(input(\"Enter your choice from 1-2 :\"))\n",
    "    if choice==1:\n",
    "        print(\" You have successfully Voted to BJP\")\n",
    "    elif choice==2:\n",
    "        print(\"You have succefully Voted to congress\")\n",
    "    else:\n",
    "        print(\"Please enter a correct choice for vote\")\n",
    "else:\n",
    "    print(\"You are not eligible for voting\")\n"
   ]
  },
  {
   "cell_type": "code",
   "execution_count": null,
   "id": "10890508-4553-42bc-9426-9d7cc16d0b2c",
   "metadata": {},
   "outputs": [],
   "source": []
  }
 ],
 "metadata": {
  "kernelspec": {
   "display_name": "Python 3 (ipykernel)",
   "language": "python",
   "name": "python3"
  },
  "language_info": {
   "codemirror_mode": {
    "name": "ipython",
    "version": 3
   },
   "file_extension": ".py",
   "mimetype": "text/x-python",
   "name": "python",
   "nbconvert_exporter": "python",
   "pygments_lexer": "ipython3",
   "version": "3.12.4"
  }
 },
 "nbformat": 4,
 "nbformat_minor": 5
}
